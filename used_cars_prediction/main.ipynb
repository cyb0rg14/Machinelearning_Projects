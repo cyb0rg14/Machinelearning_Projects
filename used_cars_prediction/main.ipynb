{
 "cells": [
  {
   "cell_type": "markdown",
   "id": "d9ba6100",
   "metadata": {
    "papermill": {
     "duration": 0.013768,
     "end_time": "2023-07-17T05:43:13.852956",
     "exception": false,
     "start_time": "2023-07-17T05:43:13.839188",
     "status": "completed"
    },
    "tags": []
   },
   "source": [
    "![Used Cars Predicion](https://img.freepik.com/free-vector/businessman-with-smartphone-rents-car-street-via-carsharing-service-carsharing-service-short-periods-rent-best-taxi-alternative-concept_335657-2201.jpg)"
   ]
  },
  {
   "cell_type": "code",
   "execution_count": 1,
   "id": "2581d6a2",
   "metadata": {
    "execution": {
     "iopub.execute_input": "2023-07-17T05:43:13.881737Z",
     "iopub.status.busy": "2023-07-17T05:43:13.881254Z",
     "iopub.status.idle": "2023-07-17T05:43:15.369410Z",
     "shell.execute_reply": "2023-07-17T05:43:15.368016Z"
    },
    "papermill": {
     "duration": 1.505942,
     "end_time": "2023-07-17T05:43:15.372356",
     "exception": false,
     "start_time": "2023-07-17T05:43:13.866414",
     "status": "completed"
    },
    "tags": []
   },
   "outputs": [
    {
     "name": "stderr",
     "output_type": "stream",
     "text": [
      "/opt/conda/lib/python3.10/site-packages/scipy/__init__.py:146: UserWarning: A NumPy version >=1.16.5 and <1.23.0 is required for this version of SciPy (detected version 1.23.5\n",
      "  warnings.warn(f\"A NumPy version >={np_minversion} and <{np_maxversion}\"\n"
     ]
    }
   ],
   "source": [
    "# Importing the libraries\n",
    "import pandas as pd\n",
    "import numpy as np\n",
    "import matplotlib.pyplot as plt\n",
    "import seaborn as sns\n",
    "import warnings\n",
    "\n",
    "sns.set()\n",
    "warnings.filterwarnings(\"ignore\")"
   ]
  },
  {
   "cell_type": "code",
   "execution_count": 2,
   "id": "609b3666",
   "metadata": {
    "execution": {
     "iopub.execute_input": "2023-07-17T05:43:15.402576Z",
     "iopub.status.busy": "2023-07-17T05:43:15.402159Z",
     "iopub.status.idle": "2023-07-17T05:43:15.452396Z",
     "shell.execute_reply": "2023-07-17T05:43:15.451376Z"
    },
    "papermill": {
     "duration": 0.06946,
     "end_time": "2023-07-17T05:43:15.455405",
     "exception": false,
     "start_time": "2023-07-17T05:43:15.385945",
     "status": "completed"
    },
    "tags": []
   },
   "outputs": [],
   "source": [
    "# Reading the dataset\n",
    "data = pd.read_csv(\"../input/used-cars-price-prediction/train-data.csv\")"
   ]
  },
  {
   "cell_type": "code",
   "execution_count": 3,
   "id": "b42d9dcc",
   "metadata": {
    "execution": {
     "iopub.execute_input": "2023-07-17T05:43:15.484230Z",
     "iopub.status.busy": "2023-07-17T05:43:15.483811Z",
     "iopub.status.idle": "2023-07-17T05:43:15.492172Z",
     "shell.execute_reply": "2023-07-17T05:43:15.490948Z"
    },
    "papermill": {
     "duration": 0.025481,
     "end_time": "2023-07-17T05:43:15.494516",
     "exception": false,
     "start_time": "2023-07-17T05:43:15.469035",
     "status": "completed"
    },
    "tags": []
   },
   "outputs": [
    {
     "data": {
      "text/plain": [
       "(6019, 14)"
      ]
     },
     "execution_count": 3,
     "metadata": {},
     "output_type": "execute_result"
    }
   ],
   "source": [
    "# Checking for the shape of the data\n",
    "data.shape"
   ]
  },
  {
   "cell_type": "code",
   "execution_count": 4,
   "id": "86802ead",
   "metadata": {
    "execution": {
     "iopub.execute_input": "2023-07-17T05:43:15.523367Z",
     "iopub.status.busy": "2023-07-17T05:43:15.522943Z",
     "iopub.status.idle": "2023-07-17T05:43:15.550992Z",
     "shell.execute_reply": "2023-07-17T05:43:15.549913Z"
    },
    "papermill": {
     "duration": 0.045399,
     "end_time": "2023-07-17T05:43:15.553520",
     "exception": false,
     "start_time": "2023-07-17T05:43:15.508121",
     "status": "completed"
    },
    "tags": []
   },
   "outputs": [
    {
     "data": {
      "text/html": [
       "<div>\n",
       "<style scoped>\n",
       "    .dataframe tbody tr th:only-of-type {\n",
       "        vertical-align: middle;\n",
       "    }\n",
       "\n",
       "    .dataframe tbody tr th {\n",
       "        vertical-align: top;\n",
       "    }\n",
       "\n",
       "    .dataframe thead th {\n",
       "        text-align: right;\n",
       "    }\n",
       "</style>\n",
       "<table border=\"1\" class=\"dataframe\">\n",
       "  <thead>\n",
       "    <tr style=\"text-align: right;\">\n",
       "      <th></th>\n",
       "      <th>Unnamed: 0</th>\n",
       "      <th>Name</th>\n",
       "      <th>Location</th>\n",
       "      <th>Year</th>\n",
       "      <th>Kilometers_Driven</th>\n",
       "      <th>Fuel_Type</th>\n",
       "      <th>Transmission</th>\n",
       "      <th>Owner_Type</th>\n",
       "      <th>Mileage</th>\n",
       "      <th>Engine</th>\n",
       "      <th>Power</th>\n",
       "      <th>Seats</th>\n",
       "      <th>New_Price</th>\n",
       "      <th>Price</th>\n",
       "    </tr>\n",
       "  </thead>\n",
       "  <tbody>\n",
       "    <tr>\n",
       "      <th>0</th>\n",
       "      <td>0</td>\n",
       "      <td>Maruti Wagon R LXI CNG</td>\n",
       "      <td>Mumbai</td>\n",
       "      <td>2010</td>\n",
       "      <td>72000</td>\n",
       "      <td>CNG</td>\n",
       "      <td>Manual</td>\n",
       "      <td>First</td>\n",
       "      <td>26.6 km/kg</td>\n",
       "      <td>998 CC</td>\n",
       "      <td>58.16 bhp</td>\n",
       "      <td>5.0</td>\n",
       "      <td>NaN</td>\n",
       "      <td>1.75</td>\n",
       "    </tr>\n",
       "    <tr>\n",
       "      <th>1</th>\n",
       "      <td>1</td>\n",
       "      <td>Hyundai Creta 1.6 CRDi SX Option</td>\n",
       "      <td>Pune</td>\n",
       "      <td>2015</td>\n",
       "      <td>41000</td>\n",
       "      <td>Diesel</td>\n",
       "      <td>Manual</td>\n",
       "      <td>First</td>\n",
       "      <td>19.67 kmpl</td>\n",
       "      <td>1582 CC</td>\n",
       "      <td>126.2 bhp</td>\n",
       "      <td>5.0</td>\n",
       "      <td>NaN</td>\n",
       "      <td>12.50</td>\n",
       "    </tr>\n",
       "    <tr>\n",
       "      <th>2</th>\n",
       "      <td>2</td>\n",
       "      <td>Honda Jazz V</td>\n",
       "      <td>Chennai</td>\n",
       "      <td>2011</td>\n",
       "      <td>46000</td>\n",
       "      <td>Petrol</td>\n",
       "      <td>Manual</td>\n",
       "      <td>First</td>\n",
       "      <td>18.2 kmpl</td>\n",
       "      <td>1199 CC</td>\n",
       "      <td>88.7 bhp</td>\n",
       "      <td>5.0</td>\n",
       "      <td>8.61 Lakh</td>\n",
       "      <td>4.50</td>\n",
       "    </tr>\n",
       "    <tr>\n",
       "      <th>3</th>\n",
       "      <td>3</td>\n",
       "      <td>Maruti Ertiga VDI</td>\n",
       "      <td>Chennai</td>\n",
       "      <td>2012</td>\n",
       "      <td>87000</td>\n",
       "      <td>Diesel</td>\n",
       "      <td>Manual</td>\n",
       "      <td>First</td>\n",
       "      <td>20.77 kmpl</td>\n",
       "      <td>1248 CC</td>\n",
       "      <td>88.76 bhp</td>\n",
       "      <td>7.0</td>\n",
       "      <td>NaN</td>\n",
       "      <td>6.00</td>\n",
       "    </tr>\n",
       "    <tr>\n",
       "      <th>4</th>\n",
       "      <td>4</td>\n",
       "      <td>Audi A4 New 2.0 TDI Multitronic</td>\n",
       "      <td>Coimbatore</td>\n",
       "      <td>2013</td>\n",
       "      <td>40670</td>\n",
       "      <td>Diesel</td>\n",
       "      <td>Automatic</td>\n",
       "      <td>Second</td>\n",
       "      <td>15.2 kmpl</td>\n",
       "      <td>1968 CC</td>\n",
       "      <td>140.8 bhp</td>\n",
       "      <td>5.0</td>\n",
       "      <td>NaN</td>\n",
       "      <td>17.74</td>\n",
       "    </tr>\n",
       "  </tbody>\n",
       "</table>\n",
       "</div>"
      ],
      "text/plain": [
       "   Unnamed: 0                              Name    Location  Year  \\\n",
       "0           0            Maruti Wagon R LXI CNG      Mumbai  2010   \n",
       "1           1  Hyundai Creta 1.6 CRDi SX Option        Pune  2015   \n",
       "2           2                      Honda Jazz V     Chennai  2011   \n",
       "3           3                 Maruti Ertiga VDI     Chennai  2012   \n",
       "4           4   Audi A4 New 2.0 TDI Multitronic  Coimbatore  2013   \n",
       "\n",
       "   Kilometers_Driven Fuel_Type Transmission Owner_Type     Mileage   Engine  \\\n",
       "0              72000       CNG       Manual      First  26.6 km/kg   998 CC   \n",
       "1              41000    Diesel       Manual      First  19.67 kmpl  1582 CC   \n",
       "2              46000    Petrol       Manual      First   18.2 kmpl  1199 CC   \n",
       "3              87000    Diesel       Manual      First  20.77 kmpl  1248 CC   \n",
       "4              40670    Diesel    Automatic     Second   15.2 kmpl  1968 CC   \n",
       "\n",
       "       Power  Seats  New_Price  Price  \n",
       "0  58.16 bhp    5.0        NaN   1.75  \n",
       "1  126.2 bhp    5.0        NaN  12.50  \n",
       "2   88.7 bhp    5.0  8.61 Lakh   4.50  \n",
       "3  88.76 bhp    7.0        NaN   6.00  \n",
       "4  140.8 bhp    5.0        NaN  17.74  "
      ]
     },
     "execution_count": 4,
     "metadata": {},
     "output_type": "execute_result"
    }
   ],
   "source": [
    "# Understand the data\n",
    "data.head()"
   ]
  },
  {
   "cell_type": "code",
   "execution_count": 5,
   "id": "a3ed63a8",
   "metadata": {
    "execution": {
     "iopub.execute_input": "2023-07-17T05:43:15.583752Z",
     "iopub.status.busy": "2023-07-17T05:43:15.582914Z",
     "iopub.status.idle": "2023-07-17T05:43:15.612838Z",
     "shell.execute_reply": "2023-07-17T05:43:15.611713Z"
    },
    "papermill": {
     "duration": 0.048026,
     "end_time": "2023-07-17T05:43:15.615395",
     "exception": false,
     "start_time": "2023-07-17T05:43:15.567369",
     "status": "completed"
    },
    "tags": []
   },
   "outputs": [
    {
     "data": {
      "text/plain": [
       "Unnamed: 0              0\n",
       "Name                    0\n",
       "Location                0\n",
       "Year                    0\n",
       "Kilometers_Driven       0\n",
       "Fuel_Type               0\n",
       "Transmission            0\n",
       "Owner_Type              0\n",
       "Mileage                 2\n",
       "Engine                 36\n",
       "Power                  36\n",
       "Seats                  42\n",
       "New_Price            5195\n",
       "Price                   0\n",
       "dtype: int64"
      ]
     },
     "execution_count": 5,
     "metadata": {},
     "output_type": "execute_result"
    }
   ],
   "source": [
    "# Check for null values\n",
    "data.isna().sum()"
   ]
  },
  {
   "cell_type": "code",
   "execution_count": 6,
   "id": "60d7315f",
   "metadata": {
    "execution": {
     "iopub.execute_input": "2023-07-17T05:43:15.646259Z",
     "iopub.status.busy": "2023-07-17T05:43:15.645070Z",
     "iopub.status.idle": "2023-07-17T05:43:15.673701Z",
     "shell.execute_reply": "2023-07-17T05:43:15.672489Z"
    },
    "papermill": {
     "duration": 0.047024,
     "end_time": "2023-07-17T05:43:15.676500",
     "exception": false,
     "start_time": "2023-07-17T05:43:15.629476",
     "status": "completed"
    },
    "tags": []
   },
   "outputs": [],
   "source": [
    "# Take actions on null values\n",
    "data.drop(columns=['New_Price'], inplace=True)\n",
    "data.dropna(inplace=True)"
   ]
  },
  {
   "cell_type": "code",
   "execution_count": 7,
   "id": "46df3c83",
   "metadata": {
    "execution": {
     "iopub.execute_input": "2023-07-17T05:43:15.707346Z",
     "iopub.status.busy": "2023-07-17T05:43:15.706471Z",
     "iopub.status.idle": "2023-07-17T05:43:15.712888Z",
     "shell.execute_reply": "2023-07-17T05:43:15.711960Z"
    },
    "papermill": {
     "duration": 0.024869,
     "end_time": "2023-07-17T05:43:15.715482",
     "exception": false,
     "start_time": "2023-07-17T05:43:15.690613",
     "status": "completed"
    },
    "tags": []
   },
   "outputs": [],
   "source": [
    "# Divide the data into X & y\n",
    "X = data.iloc[:, 2:-1]\n",
    "y = data.iloc[:, -1]"
   ]
  },
  {
   "cell_type": "code",
   "execution_count": 8,
   "id": "8788de72",
   "metadata": {
    "execution": {
     "iopub.execute_input": "2023-07-17T05:43:15.746543Z",
     "iopub.status.busy": "2023-07-17T05:43:15.745548Z",
     "iopub.status.idle": "2023-07-17T05:43:15.765028Z",
     "shell.execute_reply": "2023-07-17T05:43:15.763835Z"
    },
    "papermill": {
     "duration": 0.037621,
     "end_time": "2023-07-17T05:43:15.767648",
     "exception": false,
     "start_time": "2023-07-17T05:43:15.730027",
     "status": "completed"
    },
    "tags": []
   },
   "outputs": [
    {
     "name": "stdout",
     "output_type": "stream",
     "text": [
      "0     1.75\n",
      "1    12.50\n",
      "2     4.50\n",
      "Name: Price, dtype: float64\n"
     ]
    },
    {
     "data": {
      "text/html": [
       "<div>\n",
       "<style scoped>\n",
       "    .dataframe tbody tr th:only-of-type {\n",
       "        vertical-align: middle;\n",
       "    }\n",
       "\n",
       "    .dataframe tbody tr th {\n",
       "        vertical-align: top;\n",
       "    }\n",
       "\n",
       "    .dataframe thead th {\n",
       "        text-align: right;\n",
       "    }\n",
       "</style>\n",
       "<table border=\"1\" class=\"dataframe\">\n",
       "  <thead>\n",
       "    <tr style=\"text-align: right;\">\n",
       "      <th></th>\n",
       "      <th>Location</th>\n",
       "      <th>Year</th>\n",
       "      <th>Kilometers_Driven</th>\n",
       "      <th>Fuel_Type</th>\n",
       "      <th>Transmission</th>\n",
       "      <th>Owner_Type</th>\n",
       "      <th>Mileage</th>\n",
       "      <th>Engine</th>\n",
       "      <th>Power</th>\n",
       "      <th>Seats</th>\n",
       "    </tr>\n",
       "  </thead>\n",
       "  <tbody>\n",
       "    <tr>\n",
       "      <th>0</th>\n",
       "      <td>Mumbai</td>\n",
       "      <td>2010</td>\n",
       "      <td>72000</td>\n",
       "      <td>CNG</td>\n",
       "      <td>Manual</td>\n",
       "      <td>First</td>\n",
       "      <td>26.6 km/kg</td>\n",
       "      <td>998 CC</td>\n",
       "      <td>58.16 bhp</td>\n",
       "      <td>5.0</td>\n",
       "    </tr>\n",
       "    <tr>\n",
       "      <th>1</th>\n",
       "      <td>Pune</td>\n",
       "      <td>2015</td>\n",
       "      <td>41000</td>\n",
       "      <td>Diesel</td>\n",
       "      <td>Manual</td>\n",
       "      <td>First</td>\n",
       "      <td>19.67 kmpl</td>\n",
       "      <td>1582 CC</td>\n",
       "      <td>126.2 bhp</td>\n",
       "      <td>5.0</td>\n",
       "    </tr>\n",
       "    <tr>\n",
       "      <th>2</th>\n",
       "      <td>Chennai</td>\n",
       "      <td>2011</td>\n",
       "      <td>46000</td>\n",
       "      <td>Petrol</td>\n",
       "      <td>Manual</td>\n",
       "      <td>First</td>\n",
       "      <td>18.2 kmpl</td>\n",
       "      <td>1199 CC</td>\n",
       "      <td>88.7 bhp</td>\n",
       "      <td>5.0</td>\n",
       "    </tr>\n",
       "    <tr>\n",
       "      <th>3</th>\n",
       "      <td>Chennai</td>\n",
       "      <td>2012</td>\n",
       "      <td>87000</td>\n",
       "      <td>Diesel</td>\n",
       "      <td>Manual</td>\n",
       "      <td>First</td>\n",
       "      <td>20.77 kmpl</td>\n",
       "      <td>1248 CC</td>\n",
       "      <td>88.76 bhp</td>\n",
       "      <td>7.0</td>\n",
       "    </tr>\n",
       "    <tr>\n",
       "      <th>4</th>\n",
       "      <td>Coimbatore</td>\n",
       "      <td>2013</td>\n",
       "      <td>40670</td>\n",
       "      <td>Diesel</td>\n",
       "      <td>Automatic</td>\n",
       "      <td>Second</td>\n",
       "      <td>15.2 kmpl</td>\n",
       "      <td>1968 CC</td>\n",
       "      <td>140.8 bhp</td>\n",
       "      <td>5.0</td>\n",
       "    </tr>\n",
       "  </tbody>\n",
       "</table>\n",
       "</div>"
      ],
      "text/plain": [
       "     Location  Year  Kilometers_Driven Fuel_Type Transmission Owner_Type  \\\n",
       "0      Mumbai  2010              72000       CNG       Manual      First   \n",
       "1        Pune  2015              41000    Diesel       Manual      First   \n",
       "2     Chennai  2011              46000    Petrol       Manual      First   \n",
       "3     Chennai  2012              87000    Diesel       Manual      First   \n",
       "4  Coimbatore  2013              40670    Diesel    Automatic     Second   \n",
       "\n",
       "      Mileage   Engine      Power  Seats  \n",
       "0  26.6 km/kg   998 CC  58.16 bhp    5.0  \n",
       "1  19.67 kmpl  1582 CC  126.2 bhp    5.0  \n",
       "2   18.2 kmpl  1199 CC   88.7 bhp    5.0  \n",
       "3  20.77 kmpl  1248 CC  88.76 bhp    7.0  \n",
       "4   15.2 kmpl  1968 CC  140.8 bhp    5.0  "
      ]
     },
     "execution_count": 8,
     "metadata": {},
     "output_type": "execute_result"
    }
   ],
   "source": [
    "print(y.head(3))\n",
    "X.head()"
   ]
  },
  {
   "cell_type": "markdown",
   "id": "9a99c043",
   "metadata": {
    "papermill": {
     "duration": 0.014223,
     "end_time": "2023-07-17T05:43:15.796293",
     "exception": false,
     "start_time": "2023-07-17T05:43:15.782070",
     "status": "completed"
    },
    "tags": []
   },
   "source": [
    "## **Extract Numeric Values from `Mileage, Engine & Power` Colns**"
   ]
  },
  {
   "cell_type": "code",
   "execution_count": 9,
   "id": "ebd7a62c",
   "metadata": {
    "execution": {
     "iopub.execute_input": "2023-07-17T05:43:15.827314Z",
     "iopub.status.busy": "2023-07-17T05:43:15.826443Z",
     "iopub.status.idle": "2023-07-17T05:43:15.842632Z",
     "shell.execute_reply": "2023-07-17T05:43:15.841734Z"
    },
    "papermill": {
     "duration": 0.034138,
     "end_time": "2023-07-17T05:43:15.844947",
     "exception": false,
     "start_time": "2023-07-17T05:43:15.810809",
     "status": "completed"
    },
    "tags": []
   },
   "outputs": [
    {
     "data": {
      "text/html": [
       "<div>\n",
       "<style scoped>\n",
       "    .dataframe tbody tr th:only-of-type {\n",
       "        vertical-align: middle;\n",
       "    }\n",
       "\n",
       "    .dataframe tbody tr th {\n",
       "        vertical-align: top;\n",
       "    }\n",
       "\n",
       "    .dataframe thead th {\n",
       "        text-align: right;\n",
       "    }\n",
       "</style>\n",
       "<table border=\"1\" class=\"dataframe\">\n",
       "  <thead>\n",
       "    <tr style=\"text-align: right;\">\n",
       "      <th></th>\n",
       "      <th>Location</th>\n",
       "      <th>Year</th>\n",
       "      <th>Kilometers_Driven</th>\n",
       "      <th>Fuel_Type</th>\n",
       "      <th>Transmission</th>\n",
       "      <th>Owner_Type</th>\n",
       "      <th>Mileage</th>\n",
       "      <th>Engine</th>\n",
       "      <th>Power</th>\n",
       "      <th>Seats</th>\n",
       "    </tr>\n",
       "  </thead>\n",
       "  <tbody>\n",
       "    <tr>\n",
       "      <th>0</th>\n",
       "      <td>Mumbai</td>\n",
       "      <td>2010</td>\n",
       "      <td>72000</td>\n",
       "      <td>CNG</td>\n",
       "      <td>Manual</td>\n",
       "      <td>First</td>\n",
       "      <td>26.6 km/kg</td>\n",
       "      <td>998 CC</td>\n",
       "      <td>58.16 bhp</td>\n",
       "      <td>5.0</td>\n",
       "    </tr>\n",
       "    <tr>\n",
       "      <th>1</th>\n",
       "      <td>Pune</td>\n",
       "      <td>2015</td>\n",
       "      <td>41000</td>\n",
       "      <td>Diesel</td>\n",
       "      <td>Manual</td>\n",
       "      <td>First</td>\n",
       "      <td>19.67 kmpl</td>\n",
       "      <td>1582 CC</td>\n",
       "      <td>126.2 bhp</td>\n",
       "      <td>5.0</td>\n",
       "    </tr>\n",
       "    <tr>\n",
       "      <th>2</th>\n",
       "      <td>Chennai</td>\n",
       "      <td>2011</td>\n",
       "      <td>46000</td>\n",
       "      <td>Petrol</td>\n",
       "      <td>Manual</td>\n",
       "      <td>First</td>\n",
       "      <td>18.2 kmpl</td>\n",
       "      <td>1199 CC</td>\n",
       "      <td>88.7 bhp</td>\n",
       "      <td>5.0</td>\n",
       "    </tr>\n",
       "  </tbody>\n",
       "</table>\n",
       "</div>"
      ],
      "text/plain": [
       "  Location  Year  Kilometers_Driven Fuel_Type Transmission Owner_Type  \\\n",
       "0   Mumbai  2010              72000       CNG       Manual      First   \n",
       "1     Pune  2015              41000    Diesel       Manual      First   \n",
       "2  Chennai  2011              46000    Petrol       Manual      First   \n",
       "\n",
       "      Mileage   Engine      Power  Seats  \n",
       "0  26.6 km/kg   998 CC  58.16 bhp    5.0  \n",
       "1  19.67 kmpl  1582 CC  126.2 bhp    5.0  \n",
       "2   18.2 kmpl  1199 CC   88.7 bhp    5.0  "
      ]
     },
     "execution_count": 9,
     "metadata": {},
     "output_type": "execute_result"
    }
   ],
   "source": [
    "X.head(3)"
   ]
  },
  {
   "cell_type": "code",
   "execution_count": 10,
   "id": "21dfa47d",
   "metadata": {
    "execution": {
     "iopub.execute_input": "2023-07-17T05:43:15.877451Z",
     "iopub.status.busy": "2023-07-17T05:43:15.876595Z",
     "iopub.status.idle": "2023-07-17T05:43:15.883086Z",
     "shell.execute_reply": "2023-07-17T05:43:15.882234Z"
    },
    "papermill": {
     "duration": 0.025209,
     "end_time": "2023-07-17T05:43:15.885413",
     "exception": false,
     "start_time": "2023-07-17T05:43:15.860204",
     "status": "completed"
    },
    "tags": []
   },
   "outputs": [],
   "source": [
    "def extract_numeric_value(value: str) -> float:\n",
    "    try:\n",
    "        strRep = str(value)\n",
    "        floatRep = \"\"\n",
    "        for char in strRep:\n",
    "            if not char.isalpha() and not char.isspace() and char != '/':\n",
    "                floatRep += char\n",
    "\n",
    "        return float(floatRep)\n",
    "    except:\n",
    "        return None"
   ]
  },
  {
   "cell_type": "code",
   "execution_count": 11,
   "id": "8d853ba4",
   "metadata": {
    "execution": {
     "iopub.execute_input": "2023-07-17T05:43:15.917440Z",
     "iopub.status.busy": "2023-07-17T05:43:15.916291Z",
     "iopub.status.idle": "2023-07-17T05:43:15.939798Z",
     "shell.execute_reply": "2023-07-17T05:43:15.938804Z"
    },
    "papermill": {
     "duration": 0.042156,
     "end_time": "2023-07-17T05:43:15.942498",
     "exception": false,
     "start_time": "2023-07-17T05:43:15.900342",
     "status": "completed"
    },
    "tags": []
   },
   "outputs": [],
   "source": [
    "X['Mileage'] = X['Mileage'].apply(extract_numeric_value)"
   ]
  },
  {
   "cell_type": "code",
   "execution_count": 12,
   "id": "8a328d9b",
   "metadata": {
    "execution": {
     "iopub.execute_input": "2023-07-17T05:43:15.977231Z",
     "iopub.status.busy": "2023-07-17T05:43:15.976056Z",
     "iopub.status.idle": "2023-07-17T05:43:15.984311Z",
     "shell.execute_reply": "2023-07-17T05:43:15.983338Z"
    },
    "papermill": {
     "duration": 0.027053,
     "end_time": "2023-07-17T05:43:15.986648",
     "exception": false,
     "start_time": "2023-07-17T05:43:15.959595",
     "status": "completed"
    },
    "tags": []
   },
   "outputs": [
    {
     "data": {
      "text/plain": [
       "0    26.60\n",
       "1    19.67\n",
       "2    18.20\n",
       "Name: Mileage, dtype: float64"
      ]
     },
     "execution_count": 12,
     "metadata": {},
     "output_type": "execute_result"
    }
   ],
   "source": [
    "X['Mileage'].head(3)"
   ]
  },
  {
   "cell_type": "code",
   "execution_count": 13,
   "id": "4692d0fc",
   "metadata": {
    "execution": {
     "iopub.execute_input": "2023-07-17T05:43:16.018253Z",
     "iopub.status.busy": "2023-07-17T05:43:16.017586Z",
     "iopub.status.idle": "2023-07-17T05:43:16.038669Z",
     "shell.execute_reply": "2023-07-17T05:43:16.037747Z"
    },
    "papermill": {
     "duration": 0.039956,
     "end_time": "2023-07-17T05:43:16.041435",
     "exception": false,
     "start_time": "2023-07-17T05:43:16.001479",
     "status": "completed"
    },
    "tags": []
   },
   "outputs": [],
   "source": [
    "X['Engine'] = X['Engine'].apply(extract_numeric_value)"
   ]
  },
  {
   "cell_type": "code",
   "execution_count": 14,
   "id": "0221f487",
   "metadata": {
    "execution": {
     "iopub.execute_input": "2023-07-17T05:43:16.073803Z",
     "iopub.status.busy": "2023-07-17T05:43:16.073151Z",
     "iopub.status.idle": "2023-07-17T05:43:16.081734Z",
     "shell.execute_reply": "2023-07-17T05:43:16.080628Z"
    },
    "papermill": {
     "duration": 0.027351,
     "end_time": "2023-07-17T05:43:16.084219",
     "exception": false,
     "start_time": "2023-07-17T05:43:16.056868",
     "status": "completed"
    },
    "tags": []
   },
   "outputs": [
    {
     "data": {
      "text/plain": [
       "0     998.0\n",
       "1    1582.0\n",
       "2    1199.0\n",
       "Name: Engine, dtype: float64"
      ]
     },
     "execution_count": 14,
     "metadata": {},
     "output_type": "execute_result"
    }
   ],
   "source": [
    "X['Engine'].head(3)"
   ]
  },
  {
   "cell_type": "code",
   "execution_count": 15,
   "id": "334f0b69",
   "metadata": {
    "execution": {
     "iopub.execute_input": "2023-07-17T05:43:16.117007Z",
     "iopub.status.busy": "2023-07-17T05:43:16.116600Z",
     "iopub.status.idle": "2023-07-17T05:43:16.138937Z",
     "shell.execute_reply": "2023-07-17T05:43:16.137771Z"
    },
    "papermill": {
     "duration": 0.04164,
     "end_time": "2023-07-17T05:43:16.141294",
     "exception": false,
     "start_time": "2023-07-17T05:43:16.099654",
     "status": "completed"
    },
    "tags": []
   },
   "outputs": [],
   "source": [
    "X['Power'] = X['Power'].apply(extract_numeric_value)"
   ]
  },
  {
   "cell_type": "code",
   "execution_count": 16,
   "id": "e826f52e",
   "metadata": {
    "execution": {
     "iopub.execute_input": "2023-07-17T05:43:16.173121Z",
     "iopub.status.busy": "2023-07-17T05:43:16.172714Z",
     "iopub.status.idle": "2023-07-17T05:43:16.181051Z",
     "shell.execute_reply": "2023-07-17T05:43:16.179962Z"
    },
    "papermill": {
     "duration": 0.027041,
     "end_time": "2023-07-17T05:43:16.183421",
     "exception": false,
     "start_time": "2023-07-17T05:43:16.156380",
     "status": "completed"
    },
    "tags": []
   },
   "outputs": [
    {
     "data": {
      "text/plain": [
       "0     58.16\n",
       "1    126.20\n",
       "2     88.70\n",
       "Name: Power, dtype: float64"
      ]
     },
     "execution_count": 16,
     "metadata": {},
     "output_type": "execute_result"
    }
   ],
   "source": [
    "X['Power'].head(3)"
   ]
  },
  {
   "cell_type": "code",
   "execution_count": 17,
   "id": "67ae6c00",
   "metadata": {
    "execution": {
     "iopub.execute_input": "2023-07-17T05:43:16.215603Z",
     "iopub.status.busy": "2023-07-17T05:43:16.215162Z",
     "iopub.status.idle": "2023-07-17T05:43:16.233189Z",
     "shell.execute_reply": "2023-07-17T05:43:16.232000Z"
    },
    "papermill": {
     "duration": 0.037036,
     "end_time": "2023-07-17T05:43:16.235633",
     "exception": false,
     "start_time": "2023-07-17T05:43:16.198597",
     "status": "completed"
    },
    "tags": []
   },
   "outputs": [
    {
     "data": {
      "text/plain": [
       "Location               0\n",
       "Year                   0\n",
       "Kilometers_Driven      0\n",
       "Fuel_Type              0\n",
       "Transmission           0\n",
       "Owner_Type             0\n",
       "Mileage                0\n",
       "Engine                 0\n",
       "Power                103\n",
       "Seats                  0\n",
       "dtype: int64"
      ]
     },
     "execution_count": 17,
     "metadata": {},
     "output_type": "execute_result"
    }
   ],
   "source": [
    "X.isna().sum()"
   ]
  },
  {
   "cell_type": "code",
   "execution_count": 18,
   "id": "2b08c37f",
   "metadata": {
    "execution": {
     "iopub.execute_input": "2023-07-17T05:43:16.268629Z",
     "iopub.status.busy": "2023-07-17T05:43:16.268184Z",
     "iopub.status.idle": "2023-07-17T05:43:16.289817Z",
     "shell.execute_reply": "2023-07-17T05:43:16.288673Z"
    },
    "papermill": {
     "duration": 0.040998,
     "end_time": "2023-07-17T05:43:16.292306",
     "exception": false,
     "start_time": "2023-07-17T05:43:16.251308",
     "status": "completed"
    },
    "tags": []
   },
   "outputs": [
    {
     "data": {
      "text/plain": [
       "Location             0\n",
       "Year                 0\n",
       "Kilometers_Driven    0\n",
       "Fuel_Type            0\n",
       "Transmission         0\n",
       "Owner_Type           0\n",
       "Mileage              0\n",
       "Engine               0\n",
       "Power                0\n",
       "Seats                0\n",
       "dtype: int64"
      ]
     },
     "execution_count": 18,
     "metadata": {},
     "output_type": "execute_result"
    }
   ],
   "source": [
    "# filling the null values in `power` coln\n",
    "X['Power'] = X['Power'].fillna(X['Power'].median())\n",
    "X.isna().sum()"
   ]
  },
  {
   "cell_type": "markdown",
   "id": "7ca9b86c",
   "metadata": {
    "papermill": {
     "duration": 0.015192,
     "end_time": "2023-07-17T05:43:16.323219",
     "exception": false,
     "start_time": "2023-07-17T05:43:16.308027",
     "status": "completed"
    },
    "tags": []
   },
   "source": [
    "# **Time to build Models**"
   ]
  },
  {
   "cell_type": "code",
   "execution_count": 19,
   "id": "e04708f6",
   "metadata": {
    "execution": {
     "iopub.execute_input": "2023-07-17T05:43:16.357271Z",
     "iopub.status.busy": "2023-07-17T05:43:16.356473Z",
     "iopub.status.idle": "2023-07-17T05:43:16.876405Z",
     "shell.execute_reply": "2023-07-17T05:43:16.874844Z"
    },
    "papermill": {
     "duration": 0.540619,
     "end_time": "2023-07-17T05:43:16.879651",
     "exception": false,
     "start_time": "2023-07-17T05:43:16.339032",
     "status": "completed"
    },
    "tags": []
   },
   "outputs": [],
   "source": [
    "from sklearn.compose import ColumnTransformer\n",
    "from sklearn.preprocessing import StandardScaler\n",
    "from sklearn.preprocessing import OneHotEncoder\n",
    "from sklearn.pipeline import Pipeline, make_pipeline\n",
    "from sklearn.impute import SimpleImputer\n",
    "from sklearn.model_selection import train_test_split\n",
    "from sklearn.metrics import mean_squared_error as mse, r2_score"
   ]
  },
  {
   "cell_type": "code",
   "execution_count": 20,
   "id": "0d3a1f66",
   "metadata": {
    "execution": {
     "iopub.execute_input": "2023-07-17T05:43:16.912963Z",
     "iopub.status.busy": "2023-07-17T05:43:16.912491Z",
     "iopub.status.idle": "2023-07-17T05:43:16.922536Z",
     "shell.execute_reply": "2023-07-17T05:43:16.921044Z"
    },
    "papermill": {
     "duration": 0.029863,
     "end_time": "2023-07-17T05:43:16.925210",
     "exception": false,
     "start_time": "2023-07-17T05:43:16.895347",
     "status": "completed"
    },
    "tags": []
   },
   "outputs": [],
   "source": [
    "X_train, X_test, y_train, y_test = train_test_split(X, y, test_size=0.2, random_state=42)"
   ]
  },
  {
   "cell_type": "code",
   "execution_count": 21,
   "id": "447d9bd1",
   "metadata": {
    "execution": {
     "iopub.execute_input": "2023-07-17T05:43:16.960495Z",
     "iopub.status.busy": "2023-07-17T05:43:16.960056Z",
     "iopub.status.idle": "2023-07-17T05:43:16.968761Z",
     "shell.execute_reply": "2023-07-17T05:43:16.967525Z"
    },
    "papermill": {
     "duration": 0.030243,
     "end_time": "2023-07-17T05:43:16.971103",
     "exception": false,
     "start_time": "2023-07-17T05:43:16.940860",
     "status": "completed"
    },
    "tags": []
   },
   "outputs": [
    {
     "data": {
      "text/plain": [
       "((4780, 10), (1195, 10), (4780,), (1195,))"
      ]
     },
     "execution_count": 21,
     "metadata": {},
     "output_type": "execute_result"
    }
   ],
   "source": [
    "X_train.shape, X_test.shape, y_train.shape, y_test.shape"
   ]
  },
  {
   "cell_type": "code",
   "execution_count": 22,
   "id": "67887f23",
   "metadata": {
    "execution": {
     "iopub.execute_input": "2023-07-17T05:43:17.005310Z",
     "iopub.status.busy": "2023-07-17T05:43:17.004233Z",
     "iopub.status.idle": "2023-07-17T05:43:17.010980Z",
     "shell.execute_reply": "2023-07-17T05:43:17.009757Z"
    },
    "papermill": {
     "duration": 0.026914,
     "end_time": "2023-07-17T05:43:17.013776",
     "exception": false,
     "start_time": "2023-07-17T05:43:16.986862",
     "status": "completed"
    },
    "tags": []
   },
   "outputs": [],
   "source": [
    "# Create ColumnTransformer to encode and scale values of data\n",
    "clf1 = ColumnTransformer([\n",
    "    ('encode', OneHotEncoder(drop=\"first\", sparse_output=True, handle_unknown=\"ignore\"), ['Location', 'Fuel_Type', 'Transmission', 'Owner_Type']),\n",
    "    ('scaling', StandardScaler(), ['Year', 'Kilometers_Driven', 'Mileage', 'Engine', 'Power', 'Seats'])\n",
    "], remainder=\"passthrough\")"
   ]
  },
  {
   "cell_type": "code",
   "execution_count": 23,
   "id": "82f15d05",
   "metadata": {
    "execution": {
     "iopub.execute_input": "2023-07-17T05:43:17.047760Z",
     "iopub.status.busy": "2023-07-17T05:43:17.046902Z",
     "iopub.status.idle": "2023-07-17T05:43:17.052158Z",
     "shell.execute_reply": "2023-07-17T05:43:17.051344Z"
    },
    "papermill": {
     "duration": 0.025093,
     "end_time": "2023-07-17T05:43:17.054612",
     "exception": false,
     "start_time": "2023-07-17T05:43:17.029519",
     "status": "completed"
    },
    "tags": []
   },
   "outputs": [],
   "source": [
    "from sklearn.linear_model import LinearRegression\n",
    "\n",
    "# Use LinearRegression\n",
    "clf2 = LinearRegression()"
   ]
  },
  {
   "cell_type": "code",
   "execution_count": 24,
   "id": "991ff921",
   "metadata": {
    "execution": {
     "iopub.execute_input": "2023-07-17T05:43:17.088920Z",
     "iopub.status.busy": "2023-07-17T05:43:17.088105Z",
     "iopub.status.idle": "2023-07-17T05:43:17.093356Z",
     "shell.execute_reply": "2023-07-17T05:43:17.092545Z"
    },
    "papermill": {
     "duration": 0.025491,
     "end_time": "2023-07-17T05:43:17.095723",
     "exception": false,
     "start_time": "2023-07-17T05:43:17.070232",
     "status": "completed"
    },
    "tags": []
   },
   "outputs": [],
   "source": [
    "pipe = Pipeline([\n",
    "    ('ColumnTransformer', clf1),\n",
    "    ('Model', clf2)\n",
    "])"
   ]
  },
  {
   "cell_type": "code",
   "execution_count": 25,
   "id": "101fc079",
   "metadata": {
    "execution": {
     "iopub.execute_input": "2023-07-17T05:43:17.129350Z",
     "iopub.status.busy": "2023-07-17T05:43:17.128516Z",
     "iopub.status.idle": "2023-07-17T05:43:17.250482Z",
     "shell.execute_reply": "2023-07-17T05:43:17.249265Z"
    },
    "papermill": {
     "duration": 0.14334,
     "end_time": "2023-07-17T05:43:17.254576",
     "exception": false,
     "start_time": "2023-07-17T05:43:17.111236",
     "status": "completed"
    },
    "tags": []
   },
   "outputs": [
    {
     "data": {
      "text/html": [
       "<style>#sk-container-id-1 {color: black;background-color: white;}#sk-container-id-1 pre{padding: 0;}#sk-container-id-1 div.sk-toggleable {background-color: white;}#sk-container-id-1 label.sk-toggleable__label {cursor: pointer;display: block;width: 100%;margin-bottom: 0;padding: 0.3em;box-sizing: border-box;text-align: center;}#sk-container-id-1 label.sk-toggleable__label-arrow:before {content: \"▸\";float: left;margin-right: 0.25em;color: #696969;}#sk-container-id-1 label.sk-toggleable__label-arrow:hover:before {color: black;}#sk-container-id-1 div.sk-estimator:hover label.sk-toggleable__label-arrow:before {color: black;}#sk-container-id-1 div.sk-toggleable__content {max-height: 0;max-width: 0;overflow: hidden;text-align: left;background-color: #f0f8ff;}#sk-container-id-1 div.sk-toggleable__content pre {margin: 0.2em;color: black;border-radius: 0.25em;background-color: #f0f8ff;}#sk-container-id-1 input.sk-toggleable__control:checked~div.sk-toggleable__content {max-height: 200px;max-width: 100%;overflow: auto;}#sk-container-id-1 input.sk-toggleable__control:checked~label.sk-toggleable__label-arrow:before {content: \"▾\";}#sk-container-id-1 div.sk-estimator input.sk-toggleable__control:checked~label.sk-toggleable__label {background-color: #d4ebff;}#sk-container-id-1 div.sk-label input.sk-toggleable__control:checked~label.sk-toggleable__label {background-color: #d4ebff;}#sk-container-id-1 input.sk-hidden--visually {border: 0;clip: rect(1px 1px 1px 1px);clip: rect(1px, 1px, 1px, 1px);height: 1px;margin: -1px;overflow: hidden;padding: 0;position: absolute;width: 1px;}#sk-container-id-1 div.sk-estimator {font-family: monospace;background-color: #f0f8ff;border: 1px dotted black;border-radius: 0.25em;box-sizing: border-box;margin-bottom: 0.5em;}#sk-container-id-1 div.sk-estimator:hover {background-color: #d4ebff;}#sk-container-id-1 div.sk-parallel-item::after {content: \"\";width: 100%;border-bottom: 1px solid gray;flex-grow: 1;}#sk-container-id-1 div.sk-label:hover label.sk-toggleable__label {background-color: #d4ebff;}#sk-container-id-1 div.sk-serial::before {content: \"\";position: absolute;border-left: 1px solid gray;box-sizing: border-box;top: 0;bottom: 0;left: 50%;z-index: 0;}#sk-container-id-1 div.sk-serial {display: flex;flex-direction: column;align-items: center;background-color: white;padding-right: 0.2em;padding-left: 0.2em;position: relative;}#sk-container-id-1 div.sk-item {position: relative;z-index: 1;}#sk-container-id-1 div.sk-parallel {display: flex;align-items: stretch;justify-content: center;background-color: white;position: relative;}#sk-container-id-1 div.sk-item::before, #sk-container-id-1 div.sk-parallel-item::before {content: \"\";position: absolute;border-left: 1px solid gray;box-sizing: border-box;top: 0;bottom: 0;left: 50%;z-index: -1;}#sk-container-id-1 div.sk-parallel-item {display: flex;flex-direction: column;z-index: 1;position: relative;background-color: white;}#sk-container-id-1 div.sk-parallel-item:first-child::after {align-self: flex-end;width: 50%;}#sk-container-id-1 div.sk-parallel-item:last-child::after {align-self: flex-start;width: 50%;}#sk-container-id-1 div.sk-parallel-item:only-child::after {width: 0;}#sk-container-id-1 div.sk-dashed-wrapped {border: 1px dashed gray;margin: 0 0.4em 0.5em 0.4em;box-sizing: border-box;padding-bottom: 0.4em;background-color: white;}#sk-container-id-1 div.sk-label label {font-family: monospace;font-weight: bold;display: inline-block;line-height: 1.2em;}#sk-container-id-1 div.sk-label-container {text-align: center;}#sk-container-id-1 div.sk-container {/* jupyter's `normalize.less` sets `[hidden] { display: none; }` but bootstrap.min.css set `[hidden] { display: none !important; }` so we also need the `!important` here to be able to override the default hidden behavior on the sphinx rendered scikit-learn.org. See: https://github.com/scikit-learn/scikit-learn/issues/21755 */display: inline-block !important;position: relative;}#sk-container-id-1 div.sk-text-repr-fallback {display: none;}</style><div id=\"sk-container-id-1\" class=\"sk-top-container\"><div class=\"sk-text-repr-fallback\"><pre>Pipeline(steps=[(&#x27;ColumnTransformer&#x27;,\n",
       "                 ColumnTransformer(remainder=&#x27;passthrough&#x27;,\n",
       "                                   transformers=[(&#x27;encode&#x27;,\n",
       "                                                  OneHotEncoder(drop=&#x27;first&#x27;,\n",
       "                                                                handle_unknown=&#x27;ignore&#x27;),\n",
       "                                                  [&#x27;Location&#x27;, &#x27;Fuel_Type&#x27;,\n",
       "                                                   &#x27;Transmission&#x27;,\n",
       "                                                   &#x27;Owner_Type&#x27;]),\n",
       "                                                 (&#x27;scaling&#x27;, StandardScaler(),\n",
       "                                                  [&#x27;Year&#x27;, &#x27;Kilometers_Driven&#x27;,\n",
       "                                                   &#x27;Mileage&#x27;, &#x27;Engine&#x27;, &#x27;Power&#x27;,\n",
       "                                                   &#x27;Seats&#x27;])])),\n",
       "                (&#x27;Model&#x27;, LinearRegression())])</pre><b>In a Jupyter environment, please rerun this cell to show the HTML representation or trust the notebook. <br />On GitHub, the HTML representation is unable to render, please try loading this page with nbviewer.org.</b></div><div class=\"sk-container\" hidden><div class=\"sk-item sk-dashed-wrapped\"><div class=\"sk-label-container\"><div class=\"sk-label sk-toggleable\"><input class=\"sk-toggleable__control sk-hidden--visually\" id=\"sk-estimator-id-1\" type=\"checkbox\" ><label for=\"sk-estimator-id-1\" class=\"sk-toggleable__label sk-toggleable__label-arrow\">Pipeline</label><div class=\"sk-toggleable__content\"><pre>Pipeline(steps=[(&#x27;ColumnTransformer&#x27;,\n",
       "                 ColumnTransformer(remainder=&#x27;passthrough&#x27;,\n",
       "                                   transformers=[(&#x27;encode&#x27;,\n",
       "                                                  OneHotEncoder(drop=&#x27;first&#x27;,\n",
       "                                                                handle_unknown=&#x27;ignore&#x27;),\n",
       "                                                  [&#x27;Location&#x27;, &#x27;Fuel_Type&#x27;,\n",
       "                                                   &#x27;Transmission&#x27;,\n",
       "                                                   &#x27;Owner_Type&#x27;]),\n",
       "                                                 (&#x27;scaling&#x27;, StandardScaler(),\n",
       "                                                  [&#x27;Year&#x27;, &#x27;Kilometers_Driven&#x27;,\n",
       "                                                   &#x27;Mileage&#x27;, &#x27;Engine&#x27;, &#x27;Power&#x27;,\n",
       "                                                   &#x27;Seats&#x27;])])),\n",
       "                (&#x27;Model&#x27;, LinearRegression())])</pre></div></div></div><div class=\"sk-serial\"><div class=\"sk-item sk-dashed-wrapped\"><div class=\"sk-label-container\"><div class=\"sk-label sk-toggleable\"><input class=\"sk-toggleable__control sk-hidden--visually\" id=\"sk-estimator-id-2\" type=\"checkbox\" ><label for=\"sk-estimator-id-2\" class=\"sk-toggleable__label sk-toggleable__label-arrow\">ColumnTransformer: ColumnTransformer</label><div class=\"sk-toggleable__content\"><pre>ColumnTransformer(remainder=&#x27;passthrough&#x27;,\n",
       "                  transformers=[(&#x27;encode&#x27;,\n",
       "                                 OneHotEncoder(drop=&#x27;first&#x27;,\n",
       "                                               handle_unknown=&#x27;ignore&#x27;),\n",
       "                                 [&#x27;Location&#x27;, &#x27;Fuel_Type&#x27;, &#x27;Transmission&#x27;,\n",
       "                                  &#x27;Owner_Type&#x27;]),\n",
       "                                (&#x27;scaling&#x27;, StandardScaler(),\n",
       "                                 [&#x27;Year&#x27;, &#x27;Kilometers_Driven&#x27;, &#x27;Mileage&#x27;,\n",
       "                                  &#x27;Engine&#x27;, &#x27;Power&#x27;, &#x27;Seats&#x27;])])</pre></div></div></div><div class=\"sk-parallel\"><div class=\"sk-parallel-item\"><div class=\"sk-item\"><div class=\"sk-label-container\"><div class=\"sk-label sk-toggleable\"><input class=\"sk-toggleable__control sk-hidden--visually\" id=\"sk-estimator-id-3\" type=\"checkbox\" ><label for=\"sk-estimator-id-3\" class=\"sk-toggleable__label sk-toggleable__label-arrow\">encode</label><div class=\"sk-toggleable__content\"><pre>[&#x27;Location&#x27;, &#x27;Fuel_Type&#x27;, &#x27;Transmission&#x27;, &#x27;Owner_Type&#x27;]</pre></div></div></div><div class=\"sk-serial\"><div class=\"sk-item\"><div class=\"sk-estimator sk-toggleable\"><input class=\"sk-toggleable__control sk-hidden--visually\" id=\"sk-estimator-id-4\" type=\"checkbox\" ><label for=\"sk-estimator-id-4\" class=\"sk-toggleable__label sk-toggleable__label-arrow\">OneHotEncoder</label><div class=\"sk-toggleable__content\"><pre>OneHotEncoder(drop=&#x27;first&#x27;, handle_unknown=&#x27;ignore&#x27;)</pre></div></div></div></div></div></div><div class=\"sk-parallel-item\"><div class=\"sk-item\"><div class=\"sk-label-container\"><div class=\"sk-label sk-toggleable\"><input class=\"sk-toggleable__control sk-hidden--visually\" id=\"sk-estimator-id-5\" type=\"checkbox\" ><label for=\"sk-estimator-id-5\" class=\"sk-toggleable__label sk-toggleable__label-arrow\">scaling</label><div class=\"sk-toggleable__content\"><pre>[&#x27;Year&#x27;, &#x27;Kilometers_Driven&#x27;, &#x27;Mileage&#x27;, &#x27;Engine&#x27;, &#x27;Power&#x27;, &#x27;Seats&#x27;]</pre></div></div></div><div class=\"sk-serial\"><div class=\"sk-item\"><div class=\"sk-estimator sk-toggleable\"><input class=\"sk-toggleable__control sk-hidden--visually\" id=\"sk-estimator-id-6\" type=\"checkbox\" ><label for=\"sk-estimator-id-6\" class=\"sk-toggleable__label sk-toggleable__label-arrow\">StandardScaler</label><div class=\"sk-toggleable__content\"><pre>StandardScaler()</pre></div></div></div></div></div></div><div class=\"sk-parallel-item\"><div class=\"sk-item\"><div class=\"sk-label-container\"><div class=\"sk-label sk-toggleable\"><input class=\"sk-toggleable__control sk-hidden--visually\" id=\"sk-estimator-id-7\" type=\"checkbox\" ><label for=\"sk-estimator-id-7\" class=\"sk-toggleable__label sk-toggleable__label-arrow\">remainder</label><div class=\"sk-toggleable__content\"><pre>[]</pre></div></div></div><div class=\"sk-serial\"><div class=\"sk-item\"><div class=\"sk-estimator sk-toggleable\"><input class=\"sk-toggleable__control sk-hidden--visually\" id=\"sk-estimator-id-8\" type=\"checkbox\" ><label for=\"sk-estimator-id-8\" class=\"sk-toggleable__label sk-toggleable__label-arrow\">passthrough</label><div class=\"sk-toggleable__content\"><pre>passthrough</pre></div></div></div></div></div></div></div></div><div class=\"sk-item\"><div class=\"sk-estimator sk-toggleable\"><input class=\"sk-toggleable__control sk-hidden--visually\" id=\"sk-estimator-id-9\" type=\"checkbox\" ><label for=\"sk-estimator-id-9\" class=\"sk-toggleable__label sk-toggleable__label-arrow\">LinearRegression</label><div class=\"sk-toggleable__content\"><pre>LinearRegression()</pre></div></div></div></div></div></div></div>"
      ],
      "text/plain": [
       "Pipeline(steps=[('ColumnTransformer',\n",
       "                 ColumnTransformer(remainder='passthrough',\n",
       "                                   transformers=[('encode',\n",
       "                                                  OneHotEncoder(drop='first',\n",
       "                                                                handle_unknown='ignore'),\n",
       "                                                  ['Location', 'Fuel_Type',\n",
       "                                                   'Transmission',\n",
       "                                                   'Owner_Type']),\n",
       "                                                 ('scaling', StandardScaler(),\n",
       "                                                  ['Year', 'Kilometers_Driven',\n",
       "                                                   'Mileage', 'Engine', 'Power',\n",
       "                                                   'Seats'])])),\n",
       "                ('Model', LinearRegression())])"
      ]
     },
     "execution_count": 25,
     "metadata": {},
     "output_type": "execute_result"
    }
   ],
   "source": [
    "pipe.fit(X, y)"
   ]
  },
  {
   "cell_type": "code",
   "execution_count": 26,
   "id": "f0769fea",
   "metadata": {
    "execution": {
     "iopub.execute_input": "2023-07-17T05:43:17.316316Z",
     "iopub.status.busy": "2023-07-17T05:43:17.315522Z",
     "iopub.status.idle": "2023-07-17T05:43:17.327202Z",
     "shell.execute_reply": "2023-07-17T05:43:17.325997Z"
    },
    "papermill": {
     "duration": 0.039119,
     "end_time": "2023-07-17T05:43:17.329770",
     "exception": false,
     "start_time": "2023-07-17T05:43:17.290651",
     "status": "completed"
    },
    "tags": []
   },
   "outputs": [
    {
     "data": {
      "text/plain": [
       "{'ColumnTransformer': ColumnTransformer(remainder='passthrough',\n",
       "                   transformers=[('encode',\n",
       "                                  OneHotEncoder(drop='first',\n",
       "                                                handle_unknown='ignore'),\n",
       "                                  ['Location', 'Fuel_Type', 'Transmission',\n",
       "                                   'Owner_Type']),\n",
       "                                 ('scaling', StandardScaler(),\n",
       "                                  ['Year', 'Kilometers_Driven', 'Mileage',\n",
       "                                   'Engine', 'Power', 'Seats'])]),\n",
       " 'Model': LinearRegression()}"
      ]
     },
     "execution_count": 26,
     "metadata": {},
     "output_type": "execute_result"
    }
   ],
   "source": [
    "pipe.named_steps"
   ]
  },
  {
   "cell_type": "code",
   "execution_count": 27,
   "id": "a65400e9",
   "metadata": {
    "execution": {
     "iopub.execute_input": "2023-07-17T05:43:17.365347Z",
     "iopub.status.busy": "2023-07-17T05:43:17.364499Z",
     "iopub.status.idle": "2023-07-17T05:43:17.381374Z",
     "shell.execute_reply": "2023-07-17T05:43:17.379797Z"
    },
    "papermill": {
     "duration": 0.039201,
     "end_time": "2023-07-17T05:43:17.385868",
     "exception": false,
     "start_time": "2023-07-17T05:43:17.346667",
     "status": "completed"
    },
    "tags": []
   },
   "outputs": [],
   "source": [
    "y_pred = pipe.predict(X_test)"
   ]
  },
  {
   "cell_type": "code",
   "execution_count": 28,
   "id": "3efbc384",
   "metadata": {
    "execution": {
     "iopub.execute_input": "2023-07-17T05:43:17.456914Z",
     "iopub.status.busy": "2023-07-17T05:43:17.456213Z",
     "iopub.status.idle": "2023-07-17T05:43:17.466824Z",
     "shell.execute_reply": "2023-07-17T05:43:17.465614Z"
    },
    "papermill": {
     "duration": 0.050945,
     "end_time": "2023-07-17T05:43:17.471210",
     "exception": false,
     "start_time": "2023-07-17T05:43:17.420265",
     "status": "completed"
    },
    "tags": []
   },
   "outputs": [
    {
     "name": "stdout",
     "output_type": "stream",
     "text": [
      "The r2_score by LinearRegression Model is 0.6415590180270131\n",
      "The Mean Squared Error by LinearRegression Model is 52.1806579981603\n"
     ]
    }
   ],
   "source": [
    "print(f\"The r2_score by LinearRegression Model is {r2_score(y_test, y_pred)}\")\n",
    "print(f\"The Mean Squared Error by LinearRegression Model is {mse(y_test, y_pred)}\")"
   ]
  },
  {
   "cell_type": "markdown",
   "id": "48cdfa93",
   "metadata": {
    "papermill": {
     "duration": 0.015835,
     "end_time": "2023-07-17T05:43:17.518373",
     "exception": false,
     "start_time": "2023-07-17T05:43:17.502538",
     "status": "completed"
    },
    "tags": []
   },
   "source": [
    "# **Time to call my Best Friend `Random Forest 🌲`**"
   ]
  },
  {
   "cell_type": "code",
   "execution_count": 29,
   "id": "28ec4262",
   "metadata": {
    "execution": {
     "iopub.execute_input": "2023-07-17T05:43:17.553062Z",
     "iopub.status.busy": "2023-07-17T05:43:17.552660Z",
     "iopub.status.idle": "2023-07-17T05:43:17.722482Z",
     "shell.execute_reply": "2023-07-17T05:43:17.721424Z"
    },
    "papermill": {
     "duration": 0.190583,
     "end_time": "2023-07-17T05:43:17.725228",
     "exception": false,
     "start_time": "2023-07-17T05:43:17.534645",
     "status": "completed"
    },
    "tags": []
   },
   "outputs": [],
   "source": [
    "from sklearn.ensemble import RandomForestRegressor\n",
    "\n",
    "clf3 = RandomForestRegressor(n_estimators=100, random_state=42)"
   ]
  },
  {
   "cell_type": "code",
   "execution_count": 30,
   "id": "72d84259",
   "metadata": {
    "execution": {
     "iopub.execute_input": "2023-07-17T05:43:17.759613Z",
     "iopub.status.busy": "2023-07-17T05:43:17.759203Z",
     "iopub.status.idle": "2023-07-17T05:43:17.764388Z",
     "shell.execute_reply": "2023-07-17T05:43:17.763289Z"
    },
    "papermill": {
     "duration": 0.025037,
     "end_time": "2023-07-17T05:43:17.766695",
     "exception": false,
     "start_time": "2023-07-17T05:43:17.741658",
     "status": "completed"
    },
    "tags": []
   },
   "outputs": [],
   "source": [
    "pipe2 = Pipeline([\n",
    "    ('clf1', clf1),\n",
    "    ('clf3', clf3)\n",
    "])"
   ]
  },
  {
   "cell_type": "code",
   "execution_count": 31,
   "id": "1e0c8b4d",
   "metadata": {
    "execution": {
     "iopub.execute_input": "2023-07-17T05:43:17.802424Z",
     "iopub.status.busy": "2023-07-17T05:43:17.802033Z",
     "iopub.status.idle": "2023-07-17T05:43:20.200349Z",
     "shell.execute_reply": "2023-07-17T05:43:20.198977Z"
    },
    "papermill": {
     "duration": 2.418358,
     "end_time": "2023-07-17T05:43:20.203014",
     "exception": false,
     "start_time": "2023-07-17T05:43:17.784656",
     "status": "completed"
    },
    "tags": []
   },
   "outputs": [
    {
     "data": {
      "text/html": [
       "<style>#sk-container-id-2 {color: black;background-color: white;}#sk-container-id-2 pre{padding: 0;}#sk-container-id-2 div.sk-toggleable {background-color: white;}#sk-container-id-2 label.sk-toggleable__label {cursor: pointer;display: block;width: 100%;margin-bottom: 0;padding: 0.3em;box-sizing: border-box;text-align: center;}#sk-container-id-2 label.sk-toggleable__label-arrow:before {content: \"▸\";float: left;margin-right: 0.25em;color: #696969;}#sk-container-id-2 label.sk-toggleable__label-arrow:hover:before {color: black;}#sk-container-id-2 div.sk-estimator:hover label.sk-toggleable__label-arrow:before {color: black;}#sk-container-id-2 div.sk-toggleable__content {max-height: 0;max-width: 0;overflow: hidden;text-align: left;background-color: #f0f8ff;}#sk-container-id-2 div.sk-toggleable__content pre {margin: 0.2em;color: black;border-radius: 0.25em;background-color: #f0f8ff;}#sk-container-id-2 input.sk-toggleable__control:checked~div.sk-toggleable__content {max-height: 200px;max-width: 100%;overflow: auto;}#sk-container-id-2 input.sk-toggleable__control:checked~label.sk-toggleable__label-arrow:before {content: \"▾\";}#sk-container-id-2 div.sk-estimator input.sk-toggleable__control:checked~label.sk-toggleable__label {background-color: #d4ebff;}#sk-container-id-2 div.sk-label input.sk-toggleable__control:checked~label.sk-toggleable__label {background-color: #d4ebff;}#sk-container-id-2 input.sk-hidden--visually {border: 0;clip: rect(1px 1px 1px 1px);clip: rect(1px, 1px, 1px, 1px);height: 1px;margin: -1px;overflow: hidden;padding: 0;position: absolute;width: 1px;}#sk-container-id-2 div.sk-estimator {font-family: monospace;background-color: #f0f8ff;border: 1px dotted black;border-radius: 0.25em;box-sizing: border-box;margin-bottom: 0.5em;}#sk-container-id-2 div.sk-estimator:hover {background-color: #d4ebff;}#sk-container-id-2 div.sk-parallel-item::after {content: \"\";width: 100%;border-bottom: 1px solid gray;flex-grow: 1;}#sk-container-id-2 div.sk-label:hover label.sk-toggleable__label {background-color: #d4ebff;}#sk-container-id-2 div.sk-serial::before {content: \"\";position: absolute;border-left: 1px solid gray;box-sizing: border-box;top: 0;bottom: 0;left: 50%;z-index: 0;}#sk-container-id-2 div.sk-serial {display: flex;flex-direction: column;align-items: center;background-color: white;padding-right: 0.2em;padding-left: 0.2em;position: relative;}#sk-container-id-2 div.sk-item {position: relative;z-index: 1;}#sk-container-id-2 div.sk-parallel {display: flex;align-items: stretch;justify-content: center;background-color: white;position: relative;}#sk-container-id-2 div.sk-item::before, #sk-container-id-2 div.sk-parallel-item::before {content: \"\";position: absolute;border-left: 1px solid gray;box-sizing: border-box;top: 0;bottom: 0;left: 50%;z-index: -1;}#sk-container-id-2 div.sk-parallel-item {display: flex;flex-direction: column;z-index: 1;position: relative;background-color: white;}#sk-container-id-2 div.sk-parallel-item:first-child::after {align-self: flex-end;width: 50%;}#sk-container-id-2 div.sk-parallel-item:last-child::after {align-self: flex-start;width: 50%;}#sk-container-id-2 div.sk-parallel-item:only-child::after {width: 0;}#sk-container-id-2 div.sk-dashed-wrapped {border: 1px dashed gray;margin: 0 0.4em 0.5em 0.4em;box-sizing: border-box;padding-bottom: 0.4em;background-color: white;}#sk-container-id-2 div.sk-label label {font-family: monospace;font-weight: bold;display: inline-block;line-height: 1.2em;}#sk-container-id-2 div.sk-label-container {text-align: center;}#sk-container-id-2 div.sk-container {/* jupyter's `normalize.less` sets `[hidden] { display: none; }` but bootstrap.min.css set `[hidden] { display: none !important; }` so we also need the `!important` here to be able to override the default hidden behavior on the sphinx rendered scikit-learn.org. See: https://github.com/scikit-learn/scikit-learn/issues/21755 */display: inline-block !important;position: relative;}#sk-container-id-2 div.sk-text-repr-fallback {display: none;}</style><div id=\"sk-container-id-2\" class=\"sk-top-container\"><div class=\"sk-text-repr-fallback\"><pre>Pipeline(steps=[(&#x27;clf1&#x27;,\n",
       "                 ColumnTransformer(remainder=&#x27;passthrough&#x27;,\n",
       "                                   transformers=[(&#x27;encode&#x27;,\n",
       "                                                  OneHotEncoder(drop=&#x27;first&#x27;,\n",
       "                                                                handle_unknown=&#x27;ignore&#x27;),\n",
       "                                                  [&#x27;Location&#x27;, &#x27;Fuel_Type&#x27;,\n",
       "                                                   &#x27;Transmission&#x27;,\n",
       "                                                   &#x27;Owner_Type&#x27;]),\n",
       "                                                 (&#x27;scaling&#x27;, StandardScaler(),\n",
       "                                                  [&#x27;Year&#x27;, &#x27;Kilometers_Driven&#x27;,\n",
       "                                                   &#x27;Mileage&#x27;, &#x27;Engine&#x27;, &#x27;Power&#x27;,\n",
       "                                                   &#x27;Seats&#x27;])])),\n",
       "                (&#x27;clf3&#x27;, RandomForestRegressor(random_state=42))])</pre><b>In a Jupyter environment, please rerun this cell to show the HTML representation or trust the notebook. <br />On GitHub, the HTML representation is unable to render, please try loading this page with nbviewer.org.</b></div><div class=\"sk-container\" hidden><div class=\"sk-item sk-dashed-wrapped\"><div class=\"sk-label-container\"><div class=\"sk-label sk-toggleable\"><input class=\"sk-toggleable__control sk-hidden--visually\" id=\"sk-estimator-id-10\" type=\"checkbox\" ><label for=\"sk-estimator-id-10\" class=\"sk-toggleable__label sk-toggleable__label-arrow\">Pipeline</label><div class=\"sk-toggleable__content\"><pre>Pipeline(steps=[(&#x27;clf1&#x27;,\n",
       "                 ColumnTransformer(remainder=&#x27;passthrough&#x27;,\n",
       "                                   transformers=[(&#x27;encode&#x27;,\n",
       "                                                  OneHotEncoder(drop=&#x27;first&#x27;,\n",
       "                                                                handle_unknown=&#x27;ignore&#x27;),\n",
       "                                                  [&#x27;Location&#x27;, &#x27;Fuel_Type&#x27;,\n",
       "                                                   &#x27;Transmission&#x27;,\n",
       "                                                   &#x27;Owner_Type&#x27;]),\n",
       "                                                 (&#x27;scaling&#x27;, StandardScaler(),\n",
       "                                                  [&#x27;Year&#x27;, &#x27;Kilometers_Driven&#x27;,\n",
       "                                                   &#x27;Mileage&#x27;, &#x27;Engine&#x27;, &#x27;Power&#x27;,\n",
       "                                                   &#x27;Seats&#x27;])])),\n",
       "                (&#x27;clf3&#x27;, RandomForestRegressor(random_state=42))])</pre></div></div></div><div class=\"sk-serial\"><div class=\"sk-item sk-dashed-wrapped\"><div class=\"sk-label-container\"><div class=\"sk-label sk-toggleable\"><input class=\"sk-toggleable__control sk-hidden--visually\" id=\"sk-estimator-id-11\" type=\"checkbox\" ><label for=\"sk-estimator-id-11\" class=\"sk-toggleable__label sk-toggleable__label-arrow\">clf1: ColumnTransformer</label><div class=\"sk-toggleable__content\"><pre>ColumnTransformer(remainder=&#x27;passthrough&#x27;,\n",
       "                  transformers=[(&#x27;encode&#x27;,\n",
       "                                 OneHotEncoder(drop=&#x27;first&#x27;,\n",
       "                                               handle_unknown=&#x27;ignore&#x27;),\n",
       "                                 [&#x27;Location&#x27;, &#x27;Fuel_Type&#x27;, &#x27;Transmission&#x27;,\n",
       "                                  &#x27;Owner_Type&#x27;]),\n",
       "                                (&#x27;scaling&#x27;, StandardScaler(),\n",
       "                                 [&#x27;Year&#x27;, &#x27;Kilometers_Driven&#x27;, &#x27;Mileage&#x27;,\n",
       "                                  &#x27;Engine&#x27;, &#x27;Power&#x27;, &#x27;Seats&#x27;])])</pre></div></div></div><div class=\"sk-parallel\"><div class=\"sk-parallel-item\"><div class=\"sk-item\"><div class=\"sk-label-container\"><div class=\"sk-label sk-toggleable\"><input class=\"sk-toggleable__control sk-hidden--visually\" id=\"sk-estimator-id-12\" type=\"checkbox\" ><label for=\"sk-estimator-id-12\" class=\"sk-toggleable__label sk-toggleable__label-arrow\">encode</label><div class=\"sk-toggleable__content\"><pre>[&#x27;Location&#x27;, &#x27;Fuel_Type&#x27;, &#x27;Transmission&#x27;, &#x27;Owner_Type&#x27;]</pre></div></div></div><div class=\"sk-serial\"><div class=\"sk-item\"><div class=\"sk-estimator sk-toggleable\"><input class=\"sk-toggleable__control sk-hidden--visually\" id=\"sk-estimator-id-13\" type=\"checkbox\" ><label for=\"sk-estimator-id-13\" class=\"sk-toggleable__label sk-toggleable__label-arrow\">OneHotEncoder</label><div class=\"sk-toggleable__content\"><pre>OneHotEncoder(drop=&#x27;first&#x27;, handle_unknown=&#x27;ignore&#x27;)</pre></div></div></div></div></div></div><div class=\"sk-parallel-item\"><div class=\"sk-item\"><div class=\"sk-label-container\"><div class=\"sk-label sk-toggleable\"><input class=\"sk-toggleable__control sk-hidden--visually\" id=\"sk-estimator-id-14\" type=\"checkbox\" ><label for=\"sk-estimator-id-14\" class=\"sk-toggleable__label sk-toggleable__label-arrow\">scaling</label><div class=\"sk-toggleable__content\"><pre>[&#x27;Year&#x27;, &#x27;Kilometers_Driven&#x27;, &#x27;Mileage&#x27;, &#x27;Engine&#x27;, &#x27;Power&#x27;, &#x27;Seats&#x27;]</pre></div></div></div><div class=\"sk-serial\"><div class=\"sk-item\"><div class=\"sk-estimator sk-toggleable\"><input class=\"sk-toggleable__control sk-hidden--visually\" id=\"sk-estimator-id-15\" type=\"checkbox\" ><label for=\"sk-estimator-id-15\" class=\"sk-toggleable__label sk-toggleable__label-arrow\">StandardScaler</label><div class=\"sk-toggleable__content\"><pre>StandardScaler()</pre></div></div></div></div></div></div><div class=\"sk-parallel-item\"><div class=\"sk-item\"><div class=\"sk-label-container\"><div class=\"sk-label sk-toggleable\"><input class=\"sk-toggleable__control sk-hidden--visually\" id=\"sk-estimator-id-16\" type=\"checkbox\" ><label for=\"sk-estimator-id-16\" class=\"sk-toggleable__label sk-toggleable__label-arrow\">remainder</label><div class=\"sk-toggleable__content\"><pre>[]</pre></div></div></div><div class=\"sk-serial\"><div class=\"sk-item\"><div class=\"sk-estimator sk-toggleable\"><input class=\"sk-toggleable__control sk-hidden--visually\" id=\"sk-estimator-id-17\" type=\"checkbox\" ><label for=\"sk-estimator-id-17\" class=\"sk-toggleable__label sk-toggleable__label-arrow\">passthrough</label><div class=\"sk-toggleable__content\"><pre>passthrough</pre></div></div></div></div></div></div></div></div><div class=\"sk-item\"><div class=\"sk-estimator sk-toggleable\"><input class=\"sk-toggleable__control sk-hidden--visually\" id=\"sk-estimator-id-18\" type=\"checkbox\" ><label for=\"sk-estimator-id-18\" class=\"sk-toggleable__label sk-toggleable__label-arrow\">RandomForestRegressor</label><div class=\"sk-toggleable__content\"><pre>RandomForestRegressor(random_state=42)</pre></div></div></div></div></div></div></div>"
      ],
      "text/plain": [
       "Pipeline(steps=[('clf1',\n",
       "                 ColumnTransformer(remainder='passthrough',\n",
       "                                   transformers=[('encode',\n",
       "                                                  OneHotEncoder(drop='first',\n",
       "                                                                handle_unknown='ignore'),\n",
       "                                                  ['Location', 'Fuel_Type',\n",
       "                                                   'Transmission',\n",
       "                                                   'Owner_Type']),\n",
       "                                                 ('scaling', StandardScaler(),\n",
       "                                                  ['Year', 'Kilometers_Driven',\n",
       "                                                   'Mileage', 'Engine', 'Power',\n",
       "                                                   'Seats'])])),\n",
       "                ('clf3', RandomForestRegressor(random_state=42))])"
      ]
     },
     "execution_count": 31,
     "metadata": {},
     "output_type": "execute_result"
    }
   ],
   "source": [
    "pipe2.fit(X_train, y_train)"
   ]
  },
  {
   "cell_type": "code",
   "execution_count": 32,
   "id": "504387a3",
   "metadata": {
    "execution": {
     "iopub.execute_input": "2023-07-17T05:43:20.238724Z",
     "iopub.status.busy": "2023-07-17T05:43:20.238297Z",
     "iopub.status.idle": "2023-07-17T05:43:20.295587Z",
     "shell.execute_reply": "2023-07-17T05:43:20.294336Z"
    },
    "papermill": {
     "duration": 0.078134,
     "end_time": "2023-07-17T05:43:20.298438",
     "exception": false,
     "start_time": "2023-07-17T05:43:20.220304",
     "status": "completed"
    },
    "tags": []
   },
   "outputs": [],
   "source": [
    "y_pred = pipe2.predict(X_test)"
   ]
  },
  {
   "cell_type": "code",
   "execution_count": 33,
   "id": "f66d1204",
   "metadata": {
    "execution": {
     "iopub.execute_input": "2023-07-17T05:43:20.334297Z",
     "iopub.status.busy": "2023-07-17T05:43:20.333868Z",
     "iopub.status.idle": "2023-07-17T05:43:20.342095Z",
     "shell.execute_reply": "2023-07-17T05:43:20.340891Z"
    },
    "papermill": {
     "duration": 0.029403,
     "end_time": "2023-07-17T05:43:20.344718",
     "exception": false,
     "start_time": "2023-07-17T05:43:20.315315",
     "status": "completed"
    },
    "tags": []
   },
   "outputs": [
    {
     "name": "stdout",
     "output_type": "stream",
     "text": [
      "The r2_score by Random Forest Regressor Model is 0.8403879723043517\n",
      "The Mean Squared Error by Random Forest Regressor Model is 23.235793473546472\n"
     ]
    }
   ],
   "source": [
    "print(f\"The r2_score by Random Forest Regressor Model is {r2_score(y_test, y_pred)}\")\n",
    "print(f\"The Mean Squared Error by Random Forest Regressor Model is {mse(y_test, y_pred)}\")"
   ]
  },
  {
   "cell_type": "markdown",
   "id": "3df62434",
   "metadata": {
    "papermill": {
     "duration": 0.016347,
     "end_time": "2023-07-17T05:43:20.378153",
     "exception": false,
     "start_time": "2023-07-17T05:43:20.361806",
     "status": "completed"
    },
    "tags": []
   },
   "source": [
    "# **Let's give a chance to `SGDRegressor` too, I feel bad for him 😩**"
   ]
  },
  {
   "cell_type": "code",
   "execution_count": 34,
   "id": "e28afddb",
   "metadata": {
    "execution": {
     "iopub.execute_input": "2023-07-17T05:43:20.413461Z",
     "iopub.status.busy": "2023-07-17T05:43:20.413044Z",
     "iopub.status.idle": "2023-07-17T05:43:20.418804Z",
     "shell.execute_reply": "2023-07-17T05:43:20.417643Z"
    },
    "papermill": {
     "duration": 0.026456,
     "end_time": "2023-07-17T05:43:20.421320",
     "exception": false,
     "start_time": "2023-07-17T05:43:20.394864",
     "status": "completed"
    },
    "tags": []
   },
   "outputs": [],
   "source": [
    "from sklearn.linear_model import SGDRegressor\n",
    "\n",
    "clf4 = SGDRegressor(max_iter=500, random_state=42)"
   ]
  },
  {
   "cell_type": "code",
   "execution_count": 35,
   "id": "642714c3",
   "metadata": {
    "execution": {
     "iopub.execute_input": "2023-07-17T05:43:20.456402Z",
     "iopub.status.busy": "2023-07-17T05:43:20.456003Z",
     "iopub.status.idle": "2023-07-17T05:43:20.461975Z",
     "shell.execute_reply": "2023-07-17T05:43:20.460788Z"
    },
    "papermill": {
     "duration": 0.026302,
     "end_time": "2023-07-17T05:43:20.464403",
     "exception": false,
     "start_time": "2023-07-17T05:43:20.438101",
     "status": "completed"
    },
    "tags": []
   },
   "outputs": [],
   "source": [
    "pipe3 = Pipeline([\n",
    "    ('clf1', clf1),\n",
    "    ('clf4', clf4)\n",
    "])"
   ]
  },
  {
   "cell_type": "code",
   "execution_count": 36,
   "id": "a4ddaf06",
   "metadata": {
    "execution": {
     "iopub.execute_input": "2023-07-17T05:43:20.499635Z",
     "iopub.status.busy": "2023-07-17T05:43:20.499165Z",
     "iopub.status.idle": "2023-07-17T05:43:20.577904Z",
     "shell.execute_reply": "2023-07-17T05:43:20.576603Z"
    },
    "papermill": {
     "duration": 0.099306,
     "end_time": "2023-07-17T05:43:20.580447",
     "exception": false,
     "start_time": "2023-07-17T05:43:20.481141",
     "status": "completed"
    },
    "tags": []
   },
   "outputs": [
    {
     "data": {
      "text/html": [
       "<style>#sk-container-id-3 {color: black;background-color: white;}#sk-container-id-3 pre{padding: 0;}#sk-container-id-3 div.sk-toggleable {background-color: white;}#sk-container-id-3 label.sk-toggleable__label {cursor: pointer;display: block;width: 100%;margin-bottom: 0;padding: 0.3em;box-sizing: border-box;text-align: center;}#sk-container-id-3 label.sk-toggleable__label-arrow:before {content: \"▸\";float: left;margin-right: 0.25em;color: #696969;}#sk-container-id-3 label.sk-toggleable__label-arrow:hover:before {color: black;}#sk-container-id-3 div.sk-estimator:hover label.sk-toggleable__label-arrow:before {color: black;}#sk-container-id-3 div.sk-toggleable__content {max-height: 0;max-width: 0;overflow: hidden;text-align: left;background-color: #f0f8ff;}#sk-container-id-3 div.sk-toggleable__content pre {margin: 0.2em;color: black;border-radius: 0.25em;background-color: #f0f8ff;}#sk-container-id-3 input.sk-toggleable__control:checked~div.sk-toggleable__content {max-height: 200px;max-width: 100%;overflow: auto;}#sk-container-id-3 input.sk-toggleable__control:checked~label.sk-toggleable__label-arrow:before {content: \"▾\";}#sk-container-id-3 div.sk-estimator input.sk-toggleable__control:checked~label.sk-toggleable__label {background-color: #d4ebff;}#sk-container-id-3 div.sk-label input.sk-toggleable__control:checked~label.sk-toggleable__label {background-color: #d4ebff;}#sk-container-id-3 input.sk-hidden--visually {border: 0;clip: rect(1px 1px 1px 1px);clip: rect(1px, 1px, 1px, 1px);height: 1px;margin: -1px;overflow: hidden;padding: 0;position: absolute;width: 1px;}#sk-container-id-3 div.sk-estimator {font-family: monospace;background-color: #f0f8ff;border: 1px dotted black;border-radius: 0.25em;box-sizing: border-box;margin-bottom: 0.5em;}#sk-container-id-3 div.sk-estimator:hover {background-color: #d4ebff;}#sk-container-id-3 div.sk-parallel-item::after {content: \"\";width: 100%;border-bottom: 1px solid gray;flex-grow: 1;}#sk-container-id-3 div.sk-label:hover label.sk-toggleable__label {background-color: #d4ebff;}#sk-container-id-3 div.sk-serial::before {content: \"\";position: absolute;border-left: 1px solid gray;box-sizing: border-box;top: 0;bottom: 0;left: 50%;z-index: 0;}#sk-container-id-3 div.sk-serial {display: flex;flex-direction: column;align-items: center;background-color: white;padding-right: 0.2em;padding-left: 0.2em;position: relative;}#sk-container-id-3 div.sk-item {position: relative;z-index: 1;}#sk-container-id-3 div.sk-parallel {display: flex;align-items: stretch;justify-content: center;background-color: white;position: relative;}#sk-container-id-3 div.sk-item::before, #sk-container-id-3 div.sk-parallel-item::before {content: \"\";position: absolute;border-left: 1px solid gray;box-sizing: border-box;top: 0;bottom: 0;left: 50%;z-index: -1;}#sk-container-id-3 div.sk-parallel-item {display: flex;flex-direction: column;z-index: 1;position: relative;background-color: white;}#sk-container-id-3 div.sk-parallel-item:first-child::after {align-self: flex-end;width: 50%;}#sk-container-id-3 div.sk-parallel-item:last-child::after {align-self: flex-start;width: 50%;}#sk-container-id-3 div.sk-parallel-item:only-child::after {width: 0;}#sk-container-id-3 div.sk-dashed-wrapped {border: 1px dashed gray;margin: 0 0.4em 0.5em 0.4em;box-sizing: border-box;padding-bottom: 0.4em;background-color: white;}#sk-container-id-3 div.sk-label label {font-family: monospace;font-weight: bold;display: inline-block;line-height: 1.2em;}#sk-container-id-3 div.sk-label-container {text-align: center;}#sk-container-id-3 div.sk-container {/* jupyter's `normalize.less` sets `[hidden] { display: none; }` but bootstrap.min.css set `[hidden] { display: none !important; }` so we also need the `!important` here to be able to override the default hidden behavior on the sphinx rendered scikit-learn.org. See: https://github.com/scikit-learn/scikit-learn/issues/21755 */display: inline-block !important;position: relative;}#sk-container-id-3 div.sk-text-repr-fallback {display: none;}</style><div id=\"sk-container-id-3\" class=\"sk-top-container\"><div class=\"sk-text-repr-fallback\"><pre>Pipeline(steps=[(&#x27;clf1&#x27;,\n",
       "                 ColumnTransformer(remainder=&#x27;passthrough&#x27;,\n",
       "                                   transformers=[(&#x27;encode&#x27;,\n",
       "                                                  OneHotEncoder(drop=&#x27;first&#x27;,\n",
       "                                                                handle_unknown=&#x27;ignore&#x27;),\n",
       "                                                  [&#x27;Location&#x27;, &#x27;Fuel_Type&#x27;,\n",
       "                                                   &#x27;Transmission&#x27;,\n",
       "                                                   &#x27;Owner_Type&#x27;]),\n",
       "                                                 (&#x27;scaling&#x27;, StandardScaler(),\n",
       "                                                  [&#x27;Year&#x27;, &#x27;Kilometers_Driven&#x27;,\n",
       "                                                   &#x27;Mileage&#x27;, &#x27;Engine&#x27;, &#x27;Power&#x27;,\n",
       "                                                   &#x27;Seats&#x27;])])),\n",
       "                (&#x27;clf4&#x27;, SGDRegressor(max_iter=500, random_state=42))])</pre><b>In a Jupyter environment, please rerun this cell to show the HTML representation or trust the notebook. <br />On GitHub, the HTML representation is unable to render, please try loading this page with nbviewer.org.</b></div><div class=\"sk-container\" hidden><div class=\"sk-item sk-dashed-wrapped\"><div class=\"sk-label-container\"><div class=\"sk-label sk-toggleable\"><input class=\"sk-toggleable__control sk-hidden--visually\" id=\"sk-estimator-id-19\" type=\"checkbox\" ><label for=\"sk-estimator-id-19\" class=\"sk-toggleable__label sk-toggleable__label-arrow\">Pipeline</label><div class=\"sk-toggleable__content\"><pre>Pipeline(steps=[(&#x27;clf1&#x27;,\n",
       "                 ColumnTransformer(remainder=&#x27;passthrough&#x27;,\n",
       "                                   transformers=[(&#x27;encode&#x27;,\n",
       "                                                  OneHotEncoder(drop=&#x27;first&#x27;,\n",
       "                                                                handle_unknown=&#x27;ignore&#x27;),\n",
       "                                                  [&#x27;Location&#x27;, &#x27;Fuel_Type&#x27;,\n",
       "                                                   &#x27;Transmission&#x27;,\n",
       "                                                   &#x27;Owner_Type&#x27;]),\n",
       "                                                 (&#x27;scaling&#x27;, StandardScaler(),\n",
       "                                                  [&#x27;Year&#x27;, &#x27;Kilometers_Driven&#x27;,\n",
       "                                                   &#x27;Mileage&#x27;, &#x27;Engine&#x27;, &#x27;Power&#x27;,\n",
       "                                                   &#x27;Seats&#x27;])])),\n",
       "                (&#x27;clf4&#x27;, SGDRegressor(max_iter=500, random_state=42))])</pre></div></div></div><div class=\"sk-serial\"><div class=\"sk-item sk-dashed-wrapped\"><div class=\"sk-label-container\"><div class=\"sk-label sk-toggleable\"><input class=\"sk-toggleable__control sk-hidden--visually\" id=\"sk-estimator-id-20\" type=\"checkbox\" ><label for=\"sk-estimator-id-20\" class=\"sk-toggleable__label sk-toggleable__label-arrow\">clf1: ColumnTransformer</label><div class=\"sk-toggleable__content\"><pre>ColumnTransformer(remainder=&#x27;passthrough&#x27;,\n",
       "                  transformers=[(&#x27;encode&#x27;,\n",
       "                                 OneHotEncoder(drop=&#x27;first&#x27;,\n",
       "                                               handle_unknown=&#x27;ignore&#x27;),\n",
       "                                 [&#x27;Location&#x27;, &#x27;Fuel_Type&#x27;, &#x27;Transmission&#x27;,\n",
       "                                  &#x27;Owner_Type&#x27;]),\n",
       "                                (&#x27;scaling&#x27;, StandardScaler(),\n",
       "                                 [&#x27;Year&#x27;, &#x27;Kilometers_Driven&#x27;, &#x27;Mileage&#x27;,\n",
       "                                  &#x27;Engine&#x27;, &#x27;Power&#x27;, &#x27;Seats&#x27;])])</pre></div></div></div><div class=\"sk-parallel\"><div class=\"sk-parallel-item\"><div class=\"sk-item\"><div class=\"sk-label-container\"><div class=\"sk-label sk-toggleable\"><input class=\"sk-toggleable__control sk-hidden--visually\" id=\"sk-estimator-id-21\" type=\"checkbox\" ><label for=\"sk-estimator-id-21\" class=\"sk-toggleable__label sk-toggleable__label-arrow\">encode</label><div class=\"sk-toggleable__content\"><pre>[&#x27;Location&#x27;, &#x27;Fuel_Type&#x27;, &#x27;Transmission&#x27;, &#x27;Owner_Type&#x27;]</pre></div></div></div><div class=\"sk-serial\"><div class=\"sk-item\"><div class=\"sk-estimator sk-toggleable\"><input class=\"sk-toggleable__control sk-hidden--visually\" id=\"sk-estimator-id-22\" type=\"checkbox\" ><label for=\"sk-estimator-id-22\" class=\"sk-toggleable__label sk-toggleable__label-arrow\">OneHotEncoder</label><div class=\"sk-toggleable__content\"><pre>OneHotEncoder(drop=&#x27;first&#x27;, handle_unknown=&#x27;ignore&#x27;)</pre></div></div></div></div></div></div><div class=\"sk-parallel-item\"><div class=\"sk-item\"><div class=\"sk-label-container\"><div class=\"sk-label sk-toggleable\"><input class=\"sk-toggleable__control sk-hidden--visually\" id=\"sk-estimator-id-23\" type=\"checkbox\" ><label for=\"sk-estimator-id-23\" class=\"sk-toggleable__label sk-toggleable__label-arrow\">scaling</label><div class=\"sk-toggleable__content\"><pre>[&#x27;Year&#x27;, &#x27;Kilometers_Driven&#x27;, &#x27;Mileage&#x27;, &#x27;Engine&#x27;, &#x27;Power&#x27;, &#x27;Seats&#x27;]</pre></div></div></div><div class=\"sk-serial\"><div class=\"sk-item\"><div class=\"sk-estimator sk-toggleable\"><input class=\"sk-toggleable__control sk-hidden--visually\" id=\"sk-estimator-id-24\" type=\"checkbox\" ><label for=\"sk-estimator-id-24\" class=\"sk-toggleable__label sk-toggleable__label-arrow\">StandardScaler</label><div class=\"sk-toggleable__content\"><pre>StandardScaler()</pre></div></div></div></div></div></div><div class=\"sk-parallel-item\"><div class=\"sk-item\"><div class=\"sk-label-container\"><div class=\"sk-label sk-toggleable\"><input class=\"sk-toggleable__control sk-hidden--visually\" id=\"sk-estimator-id-25\" type=\"checkbox\" ><label for=\"sk-estimator-id-25\" class=\"sk-toggleable__label sk-toggleable__label-arrow\">remainder</label><div class=\"sk-toggleable__content\"><pre>[]</pre></div></div></div><div class=\"sk-serial\"><div class=\"sk-item\"><div class=\"sk-estimator sk-toggleable\"><input class=\"sk-toggleable__control sk-hidden--visually\" id=\"sk-estimator-id-26\" type=\"checkbox\" ><label for=\"sk-estimator-id-26\" class=\"sk-toggleable__label sk-toggleable__label-arrow\">passthrough</label><div class=\"sk-toggleable__content\"><pre>passthrough</pre></div></div></div></div></div></div></div></div><div class=\"sk-item\"><div class=\"sk-estimator sk-toggleable\"><input class=\"sk-toggleable__control sk-hidden--visually\" id=\"sk-estimator-id-27\" type=\"checkbox\" ><label for=\"sk-estimator-id-27\" class=\"sk-toggleable__label sk-toggleable__label-arrow\">SGDRegressor</label><div class=\"sk-toggleable__content\"><pre>SGDRegressor(max_iter=500, random_state=42)</pre></div></div></div></div></div></div></div>"
      ],
      "text/plain": [
       "Pipeline(steps=[('clf1',\n",
       "                 ColumnTransformer(remainder='passthrough',\n",
       "                                   transformers=[('encode',\n",
       "                                                  OneHotEncoder(drop='first',\n",
       "                                                                handle_unknown='ignore'),\n",
       "                                                  ['Location', 'Fuel_Type',\n",
       "                                                   'Transmission',\n",
       "                                                   'Owner_Type']),\n",
       "                                                 ('scaling', StandardScaler(),\n",
       "                                                  ['Year', 'Kilometers_Driven',\n",
       "                                                   'Mileage', 'Engine', 'Power',\n",
       "                                                   'Seats'])])),\n",
       "                ('clf4', SGDRegressor(max_iter=500, random_state=42))])"
      ]
     },
     "execution_count": 36,
     "metadata": {},
     "output_type": "execute_result"
    }
   ],
   "source": [
    "pipe3.fit(X_train, y_train)"
   ]
  },
  {
   "cell_type": "code",
   "execution_count": 37,
   "id": "3ec4e6db",
   "metadata": {
    "execution": {
     "iopub.execute_input": "2023-07-17T05:43:20.617076Z",
     "iopub.status.busy": "2023-07-17T05:43:20.616661Z",
     "iopub.status.idle": "2023-07-17T05:43:20.634618Z",
     "shell.execute_reply": "2023-07-17T05:43:20.633021Z"
    },
    "papermill": {
     "duration": 0.041589,
     "end_time": "2023-07-17T05:43:20.639478",
     "exception": false,
     "start_time": "2023-07-17T05:43:20.597889",
     "status": "completed"
    },
    "tags": []
   },
   "outputs": [],
   "source": [
    "y_pred = pipe3.predict(X_test)"
   ]
  },
  {
   "cell_type": "code",
   "execution_count": 38,
   "id": "d8751d19",
   "metadata": {
    "execution": {
     "iopub.execute_input": "2023-07-17T05:43:20.713811Z",
     "iopub.status.busy": "2023-07-17T05:43:20.713010Z",
     "iopub.status.idle": "2023-07-17T05:43:20.723848Z",
     "shell.execute_reply": "2023-07-17T05:43:20.722746Z"
    },
    "papermill": {
     "duration": 0.052167,
     "end_time": "2023-07-17T05:43:20.727505",
     "exception": false,
     "start_time": "2023-07-17T05:43:20.675338",
     "status": "completed"
    },
    "tags": []
   },
   "outputs": [
    {
     "name": "stdout",
     "output_type": "stream",
     "text": [
      "The r2_score by SGDRegressor Model is 0.42923550588988835\n",
      "The Mean Squared Error by SGDRegressor Model is 83.09001582552642\n"
     ]
    }
   ],
   "source": [
    "print(f\"The r2_score by SGDRegressor Model is {r2_score(y_test, y_pred)}\")\n",
    "print(f\"The Mean Squared Error by SGDRegressor Model is {mse(y_test, y_pred)}\")"
   ]
  },
  {
   "cell_type": "markdown",
   "id": "f664469b",
   "metadata": {
    "papermill": {
     "duration": 0.016866,
     "end_time": "2023-07-17T05:43:20.774607",
     "exception": false,
     "start_time": "2023-07-17T05:43:20.757741",
     "status": "completed"
    },
    "tags": []
   },
   "source": [
    "## **STEPS TAKEN IN THIS NOTEBOOK**\n",
    "* First checked for null values and handled them\n",
    "* Second step, Converted colns with mixed dtype to float64 to pass to the model\n",
    "* In third step, Done One Hot Encoding on colns with Classified values\n",
    "* In fourth step, Normalize the data to bring all values on same scale\n",
    "\n",
    "`Well, though performance was not that better to be proud of 😣` but, \n",
    "\n",
    "### **Random Forest can be clearly seen dominating in model performance, so another night goes to my friend RFR 🌲**"
   ]
  }
 ],
 "metadata": {
  "kernelspec": {
   "display_name": "Python 3",
   "language": "python",
   "name": "python3"
  },
  "language_info": {
   "codemirror_mode": {
    "name": "ipython",
    "version": 3
   },
   "file_extension": ".py",
   "mimetype": "text/x-python",
   "name": "python",
   "nbconvert_exporter": "python",
   "pygments_lexer": "ipython3",
   "version": "3.10.12"
  },
  "papermill": {
   "default_parameters": {},
   "duration": 19.477432,
   "end_time": "2023-07-17T05:43:21.815029",
   "environment_variables": {},
   "exception": null,
   "input_path": "__notebook__.ipynb",
   "output_path": "__notebook__.ipynb",
   "parameters": {},
   "start_time": "2023-07-17T05:43:02.337597",
   "version": "2.4.0"
  }
 },
 "nbformat": 4,
 "nbformat_minor": 5
}
